{
  "nbformat": 4,
  "nbformat_minor": 0,
  "metadata": {
    "colab": {
      "provenance": [],
      "authorship_tag": "ABX9TyN6L4gE7ZVIoake3dfX6duM",
      "include_colab_link": true
    },
    "kernelspec": {
      "name": "python3",
      "display_name": "Python 3"
    },
    "language_info": {
      "name": "python"
    }
  },
  "cells": [
    {
      "cell_type": "markdown",
      "metadata": {
        "id": "view-in-github",
        "colab_type": "text"
      },
      "source": [
        "<a href=\"https://colab.research.google.com/github/MayuriA-tech/big-data/blob/main/loop.ipynb\" target=\"_parent\"><img src=\"https://colab.research.google.com/assets/colab-badge.svg\" alt=\"Open In Colab\"/></a>"
      ]
    },
    {
      "cell_type": "code",
      "execution_count": null,
      "metadata": {
        "colab": {
          "base_uri": "https://localhost:8080/"
        },
        "id": "UwCtLfNKbR59",
        "outputId": "923921b5-53d3-463a-b3af-5263418665d2"
      },
      "outputs": [
        {
          "output_type": "stream",
          "name": "stdout",
          "text": [
            "enter the numbers:10\n",
            "1\n",
            "2\n",
            "3\n",
            "4\n",
            "5\n",
            "6\n",
            "7\n",
            "8\n",
            "9\n",
            "10\n"
          ]
        }
      ],
      "source": [
        "#1. Write a program to print all natural numbers from 1 to n. – using while loop\n",
        "x=1\n",
        "n=int (input(\"enter the numbers:\"))\n",
        "while (x<n+1):\n",
        "  print(x)\n",
        "  x=x+1"
      ]
    },
    {
      "cell_type": "code",
      "source": [
        "#2. Write a program to print all natural numbers in reverse (from n to 1). –\n",
        "#using while loop\n",
        "n=int (input(\"enter the numbers:\"))\n",
        "while(n>0):\n",
        "  print(n)\n",
        "  n=n-1"
      ],
      "metadata": {
        "colab": {
          "base_uri": "https://localhost:8080/"
        },
        "id": "EacGZau8c-wY",
        "outputId": "6bdbfddc-1cd2-47a4-ac0d-02cd7ca24b52"
      },
      "execution_count": 1,
      "outputs": [
        {
          "output_type": "stream",
          "name": "stdout",
          "text": [
            "enter the numbers:5\n",
            "5\n",
            "4\n",
            "3\n",
            "2\n",
            "1\n"
          ]
        }
      ]
    },
    {
      "cell_type": "code",
      "source": [
        "#3. Write a program to print all alphabets from a to z. – using while loop\n",
        "print(\"uppercase letter:\")\n",
        "i=65\n",
        "while(i<=90):\n",
        "  print(chr(i), end=' ')\n",
        "  i+=1\n",
        "  print()"
      ],
      "metadata": {
        "colab": {
          "base_uri": "https://localhost:8080/"
        },
        "id": "KMxtPejUeotU",
        "outputId": "5b0db461-fcbe-414e-c2dd-260fbe5ceabd"
      },
      "execution_count": null,
      "outputs": [
        {
          "output_type": "stream",
          "name": "stdout",
          "text": [
            "uppercase letter:\n",
            "A \n",
            "B \n",
            "C \n",
            "D \n",
            "E \n",
            "F \n",
            "G \n",
            "H \n",
            "I \n",
            "J \n",
            "K \n",
            "L \n",
            "M \n",
            "N \n",
            "O \n",
            "P \n",
            "Q \n",
            "R \n",
            "S \n",
            "T \n",
            "U \n",
            "V \n",
            "W \n",
            "X \n",
            "Y \n",
            "Z \n"
          ]
        }
      ]
    },
    {
      "cell_type": "code",
      "source": [
        "#4. Write a program to print all even numbers between 1 to 100. – using while loop\n",
        "x=1\n",
        "while(x<=100):\n",
        "  if(x%2 == 0):\n",
        "    print(x)\n",
        "  x=x+1"
      ],
      "metadata": {
        "id": "WGq9hZ9DgFS2",
        "colab": {
          "base_uri": "https://localhost:8080/"
        },
        "outputId": "9ab0520e-03aa-4ecf-b96e-a38a503f6d96"
      },
      "execution_count": null,
      "outputs": [
        {
          "output_type": "stream",
          "name": "stdout",
          "text": [
            "2\n",
            "4\n",
            "6\n",
            "8\n",
            "10\n",
            "12\n",
            "14\n",
            "16\n",
            "18\n",
            "20\n",
            "22\n",
            "24\n",
            "26\n",
            "28\n",
            "30\n",
            "32\n",
            "34\n",
            "36\n",
            "38\n",
            "40\n",
            "42\n",
            "44\n",
            "46\n",
            "48\n",
            "50\n",
            "52\n",
            "54\n",
            "56\n",
            "58\n",
            "60\n",
            "62\n",
            "64\n",
            "66\n",
            "68\n",
            "70\n",
            "72\n",
            "74\n",
            "76\n",
            "78\n",
            "80\n",
            "82\n",
            "84\n",
            "86\n",
            "88\n",
            "90\n",
            "92\n",
            "94\n",
            "96\n",
            "98\n",
            "100\n"
          ]
        }
      ]
    },
    {
      "cell_type": "code",
      "source": [
        "#5. Write a program to find the sum of all odd numbers between 1 to n.\n",
        "x=1\n",
        "sum=0\n",
        "n=int(input(\"enter the number:\"))\n",
        "while(x<n+1):\n",
        "  if(x%2 != 0):\n",
        "    print(\"odd numbers:\",x)\n",
        "    sum=sum+x\n",
        "  x=x+1\n",
        "print(\"sum of odd numbers:\",sum)"
      ],
      "metadata": {
        "colab": {
          "base_uri": "https://localhost:8080/"
        },
        "id": "52jLtHFBKc2T",
        "outputId": "9856d0b7-e6fd-4193-fa48-2a73d876945b"
      },
      "execution_count": null,
      "outputs": [
        {
          "output_type": "stream",
          "name": "stdout",
          "text": [
            "enter the number:10\n",
            "odd numbers: 1\n",
            "odd numbers: 3\n",
            "odd numbers: 5\n",
            "odd numbers: 7\n",
            "odd numbers: 9\n",
            "sum of odd numbers: 25\n"
          ]
        }
      ]
    },
    {
      "cell_type": "code",
      "source": [
        "#6. Write a program to count the number of digits in a number.\n",
        "while(n>0):\n",
        "  r=n%10\n",
        "  n=n//10\n",
        "  count+=1\n",
        "print(\"the number of digits in given number:\",count)"
      ],
      "metadata": {
        "id": "HXkhcqskLfM7",
        "colab": {
          "base_uri": "https://localhost:8080/"
        },
        "outputId": "0639ad82-cae5-466f-9e12-c97152daa3a9"
      },
      "execution_count": null,
      "outputs": [
        {
          "output_type": "stream",
          "name": "stdout",
          "text": [
            "enter the number:379235765532\n",
            "the number of digits in given number: 12\n"
          ]
        }
      ]
    },
    {
      "cell_type": "code",
      "source": [
        "#7. Write a program to calculate the sum of digits of a number.\n",
        "count=0\n",
        "sum=0\n",
        "n=int(input(\"enter the number:\"))\n",
        "while(n>0):\n",
        "  r=n%10\n",
        "  n=n//10\n",
        "  count+=1\n",
        "  sum=sum+r\n",
        "print(\"the count of digits:\",count)\n",
        "print(\"the sum of digits:\",sum)\n"
      ],
      "metadata": {
        "colab": {
          "base_uri": "https://localhost:8080/"
        },
        "id": "4aXkT1pOMZj0",
        "outputId": "6c3bb171-9d54-44c8-eaa2-5ffc2e6cf505"
      },
      "execution_count": null,
      "outputs": [
        {
          "output_type": "stream",
          "name": "stdout",
          "text": [
            "enter the number:1234\n",
            "the count of digits: 4\n",
            "the sum of digits: 10\n"
          ]
        }
      ]
    },
    {
      "cell_type": "code",
      "source": [
        "#8. Write a program to find the first and last digit of a number.\n",
        "n=int(input(\"enter the number:\"))\n",
        "last_digit=n%10\n",
        "first_digit=n\n",
        "while(first_digit>=10):\n",
        "  first_digit //=10\n",
        "print(\"the first digit is:\",first_digit)\n",
        "print(\"the last digit is:\",last_digit)"
      ],
      "metadata": {
        "colab": {
          "base_uri": "https://localhost:8080/"
        },
        "id": "TfLy9pT1NFbA",
        "outputId": "9416f11f-c456-4be7-c2ef-fcd49f92151c"
      },
      "execution_count": null,
      "outputs": [
        {
          "output_type": "stream",
          "name": "stdout",
          "text": [
            "enter the number:1234\n",
            "the first digit is: 1\n",
            "the last digit is: 4\n"
          ]
        }
      ]
    },
    {
      "cell_type": "code",
      "source": [
        "#9. Write a program to find the sum of first and last digit of a number.\n",
        "sum=0\n",
        "n=int(input(\"enter the number:\"))\n",
        "last_digit=n%10\n",
        "first_digit=n\n",
        "while(first_digit >=10):\n",
        "  first_digit //=10\n",
        "sum=first_digit+last_digit\n",
        "print(\"the first and last digits of a number are:\",first_digit,last_digit)\n",
        "print(\"the sum of digits are:\",sum)\n"
      ],
      "metadata": {
        "colab": {
          "base_uri": "https://localhost:8080/"
        },
        "id": "Pufp8d7dOQjz",
        "outputId": "27cde08b-9733-4d71-81b4-6738408f6b24"
      },
      "execution_count": 3,
      "outputs": [
        {
          "output_type": "stream",
          "name": "stdout",
          "text": [
            "enter the number:1234\n",
            "the first and last digits of a number are: 1 4\n",
            "the sum of digits are: 5\n"
          ]
        }
      ]
    },
    {
      "cell_type": "code",
      "source": [
        "#10.Write a program to enter a number and print its reverse.\n",
        "n=int(input(\"enter the number:\"))\n",
        "reverse=0\n",
        "while(n>0):\n",
        "  r=n%10\n",
        "  n=n//10\n",
        "  reverse=reverse*10+r\n",
        "print(\"the reverse of the number is:\",reverse)"
      ],
      "metadata": {
        "colab": {
          "base_uri": "https://localhost:8080/"
        },
        "id": "oj8LJke6O8i7",
        "outputId": "7e3321de-2928-4b25-edc6-d15e60af5bdb"
      },
      "execution_count": 4,
      "outputs": [
        {
          "output_type": "stream",
          "name": "stdout",
          "text": [
            "enter the number:1234\n",
            "the reverse of the number is: 4321\n"
          ]
        }
      ]
    },
    {
      "cell_type": "code",
      "source": [
        "#11.Write a program to find the power of a number using for loop.\n",
        "n=int(input(\"enter the number:\"))\n",
        "p=int(input(\"enter the power:\"))\n",
        "for i in range(p):\n",
        "  r=n**p\n",
        "print(\"the result is:\",r)"
      ],
      "metadata": {
        "colab": {
          "base_uri": "https://localhost:8080/"
        },
        "id": "7ViUob0cQD3o",
        "outputId": "926f1ca6-5485-4207-c65b-ce9f2df76ff4"
      },
      "execution_count": 5,
      "outputs": [
        {
          "output_type": "stream",
          "name": "stdout",
          "text": [
            "enter the number:2\n",
            "enter the power:6\n",
            "the result is: 64\n"
          ]
        }
      ]
    },
    {
      "cell_type": "code",
      "source": [
        "#12.Write a program to find all factors of a number.\n",
        "n=int(input(\"enter the number:\"))\n",
        "for i in range(1,n+1):\n",
        "  if(n%i==0):\n",
        "    print(\"the factords are:\",i)"
      ],
      "metadata": {
        "colab": {
          "base_uri": "https://localhost:8080/"
        },
        "id": "6FQKa_qASdiJ",
        "outputId": "499c6cd6-12be-4104-da34-a65c62f4b781"
      },
      "execution_count": null,
      "outputs": [
        {
          "output_type": "stream",
          "name": "stdout",
          "text": [
            "enter the number:10\n",
            "the factords are: 1\n",
            "the factords are: 2\n",
            "the factords are: 5\n",
            "the factords are: 10\n"
          ]
        }
      ]
    },
    {
      "cell_type": "code",
      "source": [
        "#13.Write a program to calculate the factorial of a number.\n",
        "fac=1\n",
        "n=int(input(\"enter the number:\"))\n",
        "for i in range(1,n+1):\n",
        "  fac=fac*i\n",
        "print(\"result:\",fac)\n"
      ],
      "metadata": {
        "id": "Fo1FQxsSTElR",
        "colab": {
          "base_uri": "https://localhost:8080/"
        },
        "outputId": "fb4cb3da-b31f-41b7-b751-bd8859be4a07"
      },
      "execution_count": 9,
      "outputs": [
        {
          "output_type": "stream",
          "name": "stdout",
          "text": [
            "enter the number:3\n",
            "result: 6\n"
          ]
        }
      ]
    },
    {
      "cell_type": "code",
      "source": [
        "#14.Write a program to find LCM of two numbers.\n",
        "num1=int(input(\"enter the first number:\"))\n",
        "num2=int(input(\"enter the second number:\"))\n",
        "if(num1>num2):\n",
        "  greater=num1\n",
        "else:\n",
        "  greater=num2\n",
        "\n",
        "while True:\n",
        "  if (greater%num1 == 0 and greater%num2==0):\n",
        "    LCM= greater\n",
        "    break\n",
        "  greater+=1\n",
        "print(\"the LCM of numbers are:\",LCM)"
      ],
      "metadata": {
        "colab": {
          "base_uri": "https://localhost:8080/"
        },
        "id": "2jatjK-lVjPe",
        "outputId": "e70ce43e-4228-4acd-e8f4-f38b7ec075d0"
      },
      "execution_count": 17,
      "outputs": [
        {
          "output_type": "stream",
          "name": "stdout",
          "text": [
            "enter the first number:3\n",
            "enter the second number:6\n",
            "the LCM of numbers are: 6\n"
          ]
        }
      ]
    },
    {
      "cell_type": "code",
      "source": [
        "#15.Write a program to check whether a number is Prime number or not.\n",
        "n=int(input(\"enter the number:\"))\n",
        "for i in range(2,n):\n",
        "  if(n%i==0):\n",
        "    print(\"it is not a prime number:\",n)\n",
        "    break\n",
        "  else:\n",
        "    print(\"it is a prime number \",n)\n",
        "    break\n",
        ""
      ],
      "metadata": {
        "colab": {
          "base_uri": "https://localhost:8080/"
        },
        "id": "4ENu0DYAYBxe",
        "outputId": "0833dedb-a9a5-4e63-a675-66dbd74e6965"
      },
      "execution_count": 19,
      "outputs": [
        {
          "output_type": "stream",
          "name": "stdout",
          "text": [
            "enter the number:3\n",
            "it is a prime number  3\n"
          ]
        }
      ]
    },
    {
      "cell_type": "code",
      "source": [
        "#16.Write a program to print all Prime numbers between 1 to n.\n",
        "n=int(input(\"enter the value of n:\"))\n",
        "for i in range(2,n+1):\n",
        "  is_prime=True\n",
        "  for j in range(2,i):\n",
        "    if(i%j==0):\n",
        "      is_prime=False\n",
        "      break\n",
        "    if is_prime:\n",
        "      print(\"prime numbers\",i)"
      ],
      "metadata": {
        "colab": {
          "base_uri": "https://localhost:8080/"
        },
        "id": "CWT3KdS4Z55J",
        "outputId": "41c7c800-cffe-43f7-e7fa-da7d4455cfd5"
      },
      "execution_count": 28,
      "outputs": [
        {
          "output_type": "stream",
          "name": "stdout",
          "text": [
            "enter the value of n:10\n",
            "prime numbers 3\n",
            "prime numbers 5\n",
            "prime numbers 5\n",
            "prime numbers 5\n",
            "prime numbers 7\n",
            "prime numbers 7\n",
            "prime numbers 7\n",
            "prime numbers 7\n",
            "prime numbers 7\n",
            "prime numbers 9\n"
          ]
        }
      ]
    },
    {
      "cell_type": "code",
      "source": [
        "#17.Write a program to find all prime factors of a number.\n",
        "n=int(input(\"enter the number:\"))\n",
        "for i in range(2,n):\n",
        "  if(n%i==0):\n",
        "    print(\"the prime factor are:\",i)\n",
        "    n//=i"
      ],
      "metadata": {
        "colab": {
          "base_uri": "https://localhost:8080/"
        },
        "id": "m02TqXYZd0IL",
        "outputId": "4e8aaf7e-e025-4565-df4e-40d9fad5f5c7"
      },
      "execution_count": 32,
      "outputs": [
        {
          "output_type": "stream",
          "name": "stdout",
          "text": [
            "enter the number:20\n",
            "the prime factor are: 2\n",
            "the prime factor are: 5\n"
          ]
        }
      ]
    },
    {
      "cell_type": "code",
      "source": [
        "#18.Write a program to check whether a number is an Armstrong number or not\n",
        "num=int(input(\"enter a number:\"))\n",
        "temp=num\n",
        "sum=0\n",
        "while(num>0):\n",
        "  rem=num%10\n",
        "  num=num//10\n",
        "  sum=(sum+rem**3)\n",
        "\n",
        "if(sum== temp):\n",
        "  print(\"armstrong\")\n",
        "else:\n",
        "  print(\"not armstrong\")"
      ],
      "metadata": {
        "colab": {
          "base_uri": "https://localhost:8080/"
        },
        "id": "vE7uG1R-e9Kv",
        "outputId": "fc656afa-8fa5-4c19-e0af-6f69c7e3b8ec"
      },
      "execution_count": 35,
      "outputs": [
        {
          "output_type": "stream",
          "name": "stdout",
          "text": [
            "enter a number:153\n",
            "armstrong\n"
          ]
        }
      ]
    },
    {
      "cell_type": "code",
      "source": [
        "#19.Write a program to check whether a number is Strong number or not\n",
        "n=int(input(\"enter the number:\"))\n",
        "original=n\n",
        "sum=0\n",
        "for digit in str(n):\n",
        "  digit=int (digit)\n",
        "  fac=1\n",
        "  for i in range(1,digit+1):\n",
        "    fac*=i\n",
        "  sum+=fac\n",
        "if(sum==original):\n",
        "  print(\"it is a strong number:\",n)\n",
        "else:\n",
        "  print(\"it is not a strong number:\",n)"
      ],
      "metadata": {
        "colab": {
          "base_uri": "https://localhost:8080/"
        },
        "id": "eIVqAi2XfV7J",
        "outputId": "db48b72e-c242-4eda-a01d-380133aac5b8"
      },
      "execution_count": 43,
      "outputs": [
        {
          "output_type": "stream",
          "name": "stdout",
          "text": [
            "enter the number:145\n",
            "it is a strong number: 145\n"
          ]
        }
      ]
    },
    {
      "cell_type": "code",
      "source": [
        "#20.Write a program to check whether a number is perfect number or not\n",
        "n=int(input(\"enter the number:\"))\n",
        "original=n\n",
        "sum=0\n",
        "for i in range(1,n):\n",
        "  if(n%i==0):\n",
        "    sum=sum+i\n",
        "if(sum==original):\n",
        "  print(\"it is a perfect number\",n)\n",
        "else:\n",
        "  print(\"it is not a perfect number:\",n)\n"
      ],
      "metadata": {
        "colab": {
          "base_uri": "https://localhost:8080/"
        },
        "id": "CYPDEP3OiRf1",
        "outputId": "fd87b6fa-8c9c-45d2-9479-c51ace79b638"
      },
      "execution_count": 47,
      "outputs": [
        {
          "output_type": "stream",
          "name": "stdout",
          "text": [
            "enter the number:7\n",
            "it is not a perfect number: 7\n"
          ]
        }
      ]
    },
    {
      "cell_type": "code",
      "source": [
        "#21.Write a program to print fibonacci series upto n terms\n",
        "n = int(input(\"Enter the number of terms: \"))\n",
        "\n",
        "a, b = 0, 1\n",
        "\n",
        "print(\"Fibonacci series:\")\n",
        "\n",
        "for i in range(n):\n",
        "    print(a, end=\" \")\n",
        "    a, b = b, a + b\n",
        "\n"
      ],
      "metadata": {
        "colab": {
          "base_uri": "https://localhost:8080/"
        },
        "id": "a0S5oeO-jdf-",
        "outputId": "f335f2c7-5978-4ce3-e73a-0ca521ef1bf7"
      },
      "execution_count": 52,
      "outputs": [
        {
          "output_type": "stream",
          "name": "stdout",
          "text": [
            "Enter the number of terms: 5\n",
            "Fibonacci series:\n",
            "0 1 1 2 3 "
          ]
        }
      ]
    },
    {
      "cell_type": "code",
      "source": [
        "#22.Write a program to find ones complement of a binary number\n",
        "num=int(input(\"enter a number in 0's and 1's:\"))\n",
        "complement=\" \"\n",
        "for digit in str(num):\n",
        "  digit=int(digit)\n",
        "  if(digit==0):\n",
        "    complement+='1'\n",
        "  elif(digit==1):\n",
        "    complement+='0'\n",
        "  else:\n",
        "    print(\"invalid input, only allowed in 0's and 1's\")\n",
        "else:\n",
        "  print(f\"one's complement of {num} is:\",complement)"
      ],
      "metadata": {
        "colab": {
          "base_uri": "https://localhost:8080/"
        },
        "id": "7fTxjnjqniFL",
        "outputId": "673d1097-1af7-4c47-e23c-83c43327a1d8"
      },
      "execution_count": 51,
      "outputs": [
        {
          "output_type": "stream",
          "name": "stdout",
          "text": [
            "enter a number in 0's and 1's:1100\n",
            "one's complement of 1100 is:  0011\n"
          ]
        }
      ]
    }
  ]
}