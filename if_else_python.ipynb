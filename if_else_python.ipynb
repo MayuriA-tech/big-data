{
  "nbformat": 4,
  "nbformat_minor": 0,
  "metadata": {
    "colab": {
      "provenance": [],
      "authorship_tag": "ABX9TyPm4FVmpRTIA7d+zB2tSzoR",
      "include_colab_link": true
    },
    "kernelspec": {
      "name": "python3",
      "display_name": "Python 3"
    },
    "language_info": {
      "name": "python"
    }
  },
  "cells": [
    {
      "cell_type": "markdown",
      "metadata": {
        "id": "view-in-github",
        "colab_type": "text"
      },
      "source": [
        "<a href=\"https://colab.research.google.com/github/MayuriA-tech/big-data/blob/main/if_else_python.ipynb\" target=\"_parent\"><img src=\"https://colab.research.google.com/assets/colab-badge.svg\" alt=\"Open In Colab\"/></a>"
      ]
    },
    {
      "cell_type": "code",
      "execution_count": 2,
      "metadata": {
        "colab": {
          "base_uri": "https://localhost:8080/"
        },
        "id": "H6bUsL4jhXL7",
        "outputId": "79fcb2cd-17a5-4319-ed05-d0647a4da855"
      },
      "outputs": [
        {
          "output_type": "stream",
          "name": "stdout",
          "text": [
            "enter any number-0\n",
            "it is an even number\n"
          ]
        }
      ],
      "source": [
        "#Write a program that takes an integer input from the user and checks whether the number is odd or even\n",
        "x=int(input(\"enter any number-\"))\n",
        "if(x%2==0):\n",
        "  print(\"it is an even number\")\n",
        "else:\n",
        "  print(\"it is a odd number\")"
      ]
    },
    {
      "cell_type": "code",
      "source": [
        "#Write a program that takes three numbers as input and prints the largest of the three\n",
        "x=int(input(\"enter first number-\"))\n",
        "y=int(input(\"enter second number-\"))\n",
        "z=int(input(\"enter third number-\"))\n",
        "if(x>y and x>z):\n",
        "  print(\"the largest number is x\",x)\n",
        "elif(y>x and y>z):\n",
        "  print(\"the largest number is y\",y)\n",
        "else:\n",
        "  print(\"the largest number is z\",z)"
      ],
      "metadata": {
        "colab": {
          "base_uri": "https://localhost:8080/"
        },
        "id": "rnfdlCathfpJ",
        "outputId": "785603f3-031b-4595-cec6-d185d4da153b"
      },
      "execution_count": 4,
      "outputs": [
        {
          "output_type": "stream",
          "name": "stdout",
          "text": [
            "enter first number-2\n",
            "enter second number-4\n",
            "enter third number-5\n",
            "the largest number is z 5\n"
          ]
        }
      ]
    },
    {
      "cell_type": "code",
      "source": [
        "#Write a program to check if a given year is a leap year. A leap year is divisible by 4 but not by 100 unless it is also divisible by 400\n",
        "x=int(input(\"enter your year\"))\n",
        "if(x%4==0):\n",
        "  if(x%400==0 and x%100==0):\n",
        "    print(\"leap year\")\n",
        "else:\n",
        "  print(\"not a leap year\")"
      ],
      "metadata": {
        "colab": {
          "base_uri": "https://localhost:8080/"
        },
        "id": "lcJ4IfP7hmEg",
        "outputId": "80743f9e-228e-4754-bfff-8f39f5f5ad3b"
      },
      "execution_count": 6,
      "outputs": [
        {
          "output_type": "stream",
          "name": "stdout",
          "text": [
            "enter your year2022\n",
            "not a leap year\n"
          ]
        }
      ]
    },
    {
      "cell_type": "code",
      "source": [
        "#write a program that takes a percentage (integer) as input and prints the corresponding grade based on the following criteria:\n",
        "#>= 90: Grade A\n",
        "#>= 80: Grade B\n",
        "#>= 70: Grade C\n",
        "#>= 60: Grade D\n",
        "#< 60: Grade F\n",
        "\n",
        "x=int(input(\"enter your percentage:\"))\n",
        "if(x>=90):\n",
        "  print(\"grade A\")\n",
        "elif(x>=80):\n",
        "  print(\"grade B\")\n",
        "elif(x>=70):\n",
        "  print(\"grade C\")\n",
        "elif(x>=60):\n",
        "  print(\"grade D\")\n",
        "else:\n",
        "  print(\"grade E\")"
      ],
      "metadata": {
        "colab": {
          "base_uri": "https://localhost:8080/"
        },
        "id": "x2vMrZ1siPjz",
        "outputId": "f1326e85-b726-408f-9946-55776d778a29"
      },
      "execution_count": 8,
      "outputs": [
        {
          "output_type": "stream",
          "name": "stdout",
          "text": [
            "enter your percentage:98\n",
            "grade A\n"
          ]
        }
      ]
    },
    {
      "cell_type": "code",
      "source": [
        "\n",
        "\n",
        "#Write a program that checks if a given letter is a vowel (a, e, i, o, u) or a consonant\n",
        "vowel='aeiou'\n",
        "x=str(input(\"enter the alphabet:\"))\n",
        "if x in vowel:\n",
        "  print(\"vowels\")\n",
        "else:\n",
        "  print(\"consonats\")"
      ],
      "metadata": {
        "colab": {
          "base_uri": "https://localhost:8080/"
        },
        "id": "4xCzsWToiaNq",
        "outputId": "39c653a0-338a-4eaf-b02d-004ac6ce9a24"
      },
      "execution_count": 10,
      "outputs": [
        {
          "output_type": "stream",
          "name": "stdout",
          "text": [
            "enter the alphabet:a\n",
            "vowels\n"
          ]
        }
      ]
    },
    {
      "cell_type": "code",
      "source": [
        "#Write a basic calculator program that takes two numbers and an operator (+, -, *, /) as input and performs the specified operation. Print the result based on the operation\n",
        "x=int(input(\"enter first number:\"))\n",
        "y=int(input(\"enter second number:\"))\n",
        "print(\"enter 1 for +\")\n",
        "print(\"enter 2 for -\")\n",
        "print(\"enter 3 for *\")\n",
        "print(\"enter 4 for /\")\n",
        "a=int(input(\"enter your choice(1-4):\"))\n",
        "if(a==1):\n",
        "  result=x+y\n",
        "  print(\"the result is:\",result)\n",
        "elif(a==2):\n",
        "  result=x-y\n",
        "  print(\"the result is:\",result)\n",
        "elif(a==3):\n",
        "  result=x*y\n",
        "  print(\"the result is:\",result)\n",
        "elif(a==4):\n",
        "  result=x/y\n",
        "  print(\"the result is\",result)"
      ],
      "metadata": {
        "colab": {
          "base_uri": "https://localhost:8080/"
        },
        "id": "75EArEmyi0xJ",
        "outputId": "77fd45e3-6203-4e2c-ebbc-530e5b02b616"
      },
      "execution_count": 12,
      "outputs": [
        {
          "output_type": "stream",
          "name": "stdout",
          "text": [
            "enter first number:1\n",
            "enter second number:2\n",
            "enter 1 for +\n",
            "enter 2 for -\n",
            "enter 3 for *\n",
            "enter 4 for /\n",
            "enter your choice(1-4):2\n",
            "the result is: -1\n"
          ]
        }
      ]
    },
    {
      "cell_type": "code",
      "source": [
        "#Write a program that takes a number as input and checks whether it is positive, negative, or zero\n",
        "x=int(input(\"enter the number:\"))\n",
        "if(x>0):\n",
        "  print(\"positive number\")\n",
        "elif(x<0):\n",
        "  print(\"negative number\")\n",
        "else:\n",
        "  print(\"zero\")"
      ],
      "metadata": {
        "colab": {
          "base_uri": "https://localhost:8080/"
        },
        "id": "sHiEnysZi9Js",
        "outputId": "a46e5520-e9b6-4f30-f467-63ae75976e40"
      },
      "execution_count": 14,
      "outputs": [
        {
          "output_type": "stream",
          "name": "stdout",
          "text": [
            "enter the number:3\n",
            "positive number\n"
          ]
        }
      ]
    },
    {
      "cell_type": "code",
      "source": [
        "#Write a program that takes three sides of a triangle as input and checks if those sides form a valid\n",
        "#triangle. A triangle is valid if the sum of any two sides is greater than the third side.\n",
        "#Check conditions like a + b > c, b + c > a, and a + c > b\n",
        "\n",
        "a=int(input(\"enter first side\"))\n",
        "b=int(input(\"enter second side\"))\n",
        "c=int(input(\"enter third side\"))\n",
        "if(a+b > c and b+c>a and c+a>b):\n",
        "  print(\"valid traiangle\")\n",
        "else:\n",
        "  print(\"invalid triangle\")"
      ],
      "metadata": {
        "colab": {
          "base_uri": "https://localhost:8080/"
        },
        "id": "suzh4agjjChr",
        "outputId": "cc192427-5664-42b1-c216-ffaa0b8d561a"
      },
      "execution_count": 16,
      "outputs": [
        {
          "output_type": "stream",
          "name": "stdout",
          "text": [
            "enter first side3\n",
            "enter second side2\n",
            "enter third side1\n",
            "invalid triangle\n"
          ]
        }
      ]
    },
    {
      "cell_type": "code",
      "source": [
        "#Write a program that checks if a username and password entered by the user match the pre-set values\n",
        "#username = \"admin\" and password = \"1234\". If both match, print \"Login Successful\", otherwise print\n",
        "#\"Login Failed\n",
        "\n",
        "username= input(\"enter the username:\")\n",
        "password= input(\"enter the password:\")\n",
        "if(username==\"admin\" and password==\"1234\"):\n",
        "  print(\"login successfull\")\n",
        "else:\n",
        "  print(\"login failed\")"
      ],
      "metadata": {
        "colab": {
          "base_uri": "https://localhost:8080/"
        },
        "id": "nJz3icbxjPMj",
        "outputId": "75e700f2-3df2-47ee-bec1-b5eeceb7e4c5"
      },
      "execution_count": 18,
      "outputs": [
        {
          "output_type": "stream",
          "name": "stdout",
          "text": [
            "enter the username:admin\n",
            "enter the password:123\n",
            "login failed\n"
          ]
        }
      ]
    },
    {
      "cell_type": "code",
      "source": [
        "#Write a program that calculates the Body Mass Index (BMI) based on user input for weight (in kilograms) and height (in meters). Then categorize the BMI into:\n",
        "#Underweight (BMI < 18.5)\n",
        "#Normal weight (18.5 <= BMI < 24.9)\n",
        "#Overweight (25 <= BMI < 29.9)\n",
        "#Obesity (BMI >= 30)\n",
        "\n",
        "x=int(input(\"enter the weight(kg):\"))\n",
        "y=float(input(\"enter the height(m):\"))\n",
        "bmi=x/y**2\n",
        "if(bmi<18.5):\n",
        "  print(\"underweight\")\n",
        "elif(18.5<=bmi<24.9):\n",
        "  print(\"normal weight\")\n",
        "elif(25<=bmi<29.9):\n",
        "  print(\"overweight\")\n",
        "elif(bmi>=30):\n",
        "  print(\"obesity\")\n",
        "else:\n",
        "  print(\"not valid\")"
      ],
      "metadata": {
        "colab": {
          "base_uri": "https://localhost:8080/"
        },
        "id": "QJBXbc3-jViH",
        "outputId": "9de01bcd-6ab4-42e4-bfea-12fa3d4b15a4"
      },
      "execution_count": 20,
      "outputs": [
        {
          "output_type": "stream",
          "name": "stdout",
          "text": [
            "enter the weight(kg):60\n",
            "enter the height(m):1.67\n",
            "normal weight\n"
          ]
        }
      ]
    },
    {
      "cell_type": "code",
      "source": [
        "#Write a program that calculates the discount for a product based on its price:\n",
        "#If price is greater than 1000, discount is 10%\n",
        "#If price is between 500 and 1000, discount is 5%\n",
        "#Otherwise, no discount\n",
        "#Print the final price after applying the discount\n",
        "\n",
        "x=int(input(\"enter the price:\"))\n",
        "if(x>=1000):\n",
        "  price=x*(1-0.10)\n",
        "  print(\"the final price=\",price)\n",
        "elif(x>=500 and x<1000):\n",
        "  price=x*(1-0.05)\n",
        "  print(\"the final price=\",price)\n",
        "else:\n",
        "  print(\"no discount=\",x)"
      ],
      "metadata": {
        "colab": {
          "base_uri": "https://localhost:8080/"
        },
        "id": "u_uB7Ab2jhxe",
        "outputId": "204e6f8a-1a96-47f9-8b2a-c6a3a4d72b60"
      },
      "execution_count": 23,
      "outputs": [
        {
          "output_type": "stream",
          "name": "stdout",
          "text": [
            "enter the price:1000\n",
            "the final price= 900.0\n"
          ]
        }
      ]
    },
    {
      "cell_type": "code",
      "source": [
        "#Write a program that takes the name of a month as input and prints the number of days in that month. Consider leap years for February.\n",
        "a='janruary,march,may,july,august,october,december'\n",
        "b='april,june,september,november'\n",
        "month=input(\"enter the name of the month:\")\n",
        "year=int(input(\"enter the year:\"))\n",
        "if(month==\"february\"):\n",
        "  if(year%4==0 and year%100!=0) or (year%400==0):\n",
        "    print(\"number of days are 29\")\n",
        "  else:\n",
        "    print(\"number of days are 28\")\n",
        "elif(month in a):\n",
        "  print(\"number of days are 31\")\n",
        "elif(month in b):\n",
        "  print(\"number of days are 30\")\n",
        "else:\n",
        "  print(\"invalid month\")"
      ],
      "metadata": {
        "colab": {
          "base_uri": "https://localhost:8080/"
        },
        "id": "c9mxSjhsjumg",
        "outputId": "6283257b-504a-4ba9-a463-e3542cdeb6f7"
      },
      "execution_count": 26,
      "outputs": [
        {
          "output_type": "stream",
          "name": "stdout",
          "text": [
            "enter the name of the month:janrurary\n",
            "enter the year:2025\n",
            "invalid month\n"
          ]
        }
      ]
    },
    {
      "cell_type": "code",
      "source": [
        "#Write a program that simulates a simple ATM. The user should be able to:\n",
        "#check balance\n",
        "#Deposit money\n",
        "#Withdraw money (ensure the balance doesn't go negative) Use an if-else structure to handle the user choice)\n",
        "balance=1000.00\n",
        "\n",
        "while True:\n",
        " print(\"ATM\")\n",
        " print(\"1. Check Balance\")\n",
        " print(\"2. Deposit Money\")\n",
        " print(\"3. Withdraw money\")\n",
        " print(\"4. Exit\")\n",
        " choice=input(\"enter your choice:\")\n",
        " if(choice==\"1\"):\n",
        "   print(\"Your balance is: rs.\",balance)\n",
        " elif(choice==\"2\"):\n",
        "   amount=float(input(\"enter amount to be deposited: rs.\"))\n",
        "   if(amount>0):\n",
        "     balance+=amount\n",
        "     print(amount,\"deposited successfully\")\n",
        "   else:\n",
        "     print(\"invalid amount\")\n",
        " elif(choice==\"3\"):\n",
        "   amount=float(input(\"enter amount to be withdrawn: rs.\"))\n",
        "   if(amount>0):\n",
        "     if(amount<=balance):\n",
        "       balance-=amount\n",
        "       print(amount,\"successfully withdrawn\")\n",
        "     else:\n",
        "       print(\"insufficient balance\")\n",
        "   else:\n",
        "     print(\"invalid withdraw amount\")\n",
        " elif(choice==\"4\"):\n",
        "   print(\"thankyou for using ATM\")\n",
        "   break\n",
        " else:\n",
        "   print(\"invalid choice, choose from (1-4)\")"
      ],
      "metadata": {
        "colab": {
          "base_uri": "https://localhost:8080/"
        },
        "id": "hg4n6EZikFHb",
        "outputId": "b7c59a98-c77d-4ee4-8e10-bf9b641e65b6"
      },
      "execution_count": 28,
      "outputs": [
        {
          "output_type": "stream",
          "name": "stdout",
          "text": [
            "ATM\n",
            "1. Check Balance\n",
            "2. Deposit Money\n",
            "3. Withdraw money\n",
            "4. Exit\n",
            "enter your choice:4\n",
            "thankyou for using ATM\n"
          ]
        }
      ]
    },
    {
      "cell_type": "code",
      "source": [
        "#rite a program that categorizes a given age into different groups:\n",
        "#Infant (0-1 year)\n",
        "#Toddler (2-4 years)\n",
        "#child (5-12 years)\n",
        "#Teenager (13-19 years)\n",
        "#Adult (20-59 years)\n",
        "#Senior (60 years and above)\n",
        "x=int(input(\"enter your age:\"))\n",
        "if(0<=x<=1):\n",
        "  print(\"infant\")\n",
        "elif(2<=x<=4):\n",
        "  print(\"toddler\")\n",
        "elif(5<=x<=12):\n",
        "  print(\"child\")\n",
        "elif(13<=x<=19):\n",
        "  print(\"teenager\")\n",
        "elif(20<=x<=59):\n",
        "  print(\"adult\")\n",
        "else:\n",
        "  print(\"senior\")"
      ],
      "metadata": {
        "colab": {
          "base_uri": "https://localhost:8080/"
        },
        "id": "1klMqwvhkUKO",
        "outputId": "0567dde9-5253-40cd-94ed-5774fb96e547"
      },
      "execution_count": 30,
      "outputs": [
        {
          "output_type": "stream",
          "name": "stdout",
          "text": [
            "enter your age:19\n",
            "teenager\n"
          ]
        }
      ]
    },
    {
      "cell_type": "code",
      "source": [
        "#Write a program that takes an integer (1-7) as input and prints the corresponding day of the week (1 for Monday, 2 for Tuesday, etc.)\n",
        "\n",
        "x=int(input(\"enter the integer(1-7):\"))\n",
        "if(x==1):\n",
        "  print(\"monday\")\n",
        "elif(x==2):\n",
        "  print(\"tuesday\")\n",
        "elif(x==3):\n",
        "  print(\"wednesday\")\n",
        "elif(x==4):\n",
        "  print(\"thrusday\")\n",
        "elif(x==5):\n",
        "  print(\"friday\")\n",
        "elif(x==6):\n",
        "  print(\"saturday\")\n",
        "elif(x==7):\n",
        "  print(\"sunday\")\n",
        "else:\n",
        "  print(\"not valid\")"
      ],
      "metadata": {
        "colab": {
          "base_uri": "https://localhost:8080/"
        },
        "id": "LvMyuw9ekhaJ",
        "outputId": "8a2123f1-5dd4-435b-bff2-a884f0d57e86"
      },
      "execution_count": 32,
      "outputs": [
        {
          "output_type": "stream",
          "name": "stdout",
          "text": [
            "enter the integer(1-7):9\n",
            "not valid\n"
          ]
        }
      ]
    }
  ]
}