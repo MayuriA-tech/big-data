{
  "nbformat": 4,
  "nbformat_minor": 0,
  "metadata": {
    "colab": {
      "provenance": [],
      "authorship_tag": "ABX9TyNAtBh+/uHCHHZw1L/QsQTW",
      "include_colab_link": true
    },
    "kernelspec": {
      "name": "python3",
      "display_name": "Python 3"
    },
    "language_info": {
      "name": "python"
    }
  },
  "cells": [
    {
      "cell_type": "markdown",
      "metadata": {
        "id": "view-in-github",
        "colab_type": "text"
      },
      "source": [
        "<a href=\"https://colab.research.google.com/github/MayuriA-tech/big-data/blob/main/list.ipynb\" target=\"_parent\"><img src=\"https://colab.research.google.com/assets/colab-badge.svg\" alt=\"Open In Colab\"/></a>"
      ]
    },
    {
      "cell_type": "code",
      "execution_count": null,
      "metadata": {
        "id": "1OL03UF-p0jk",
        "colab": {
          "base_uri": "https://localhost:8080/"
        },
        "outputId": "0315f023-b9e6-446b-deec-82cd3f7214f3"
      },
      "outputs": [
        {
          "output_type": "stream",
          "name": "stdout",
          "text": [
            "maximum number: 55\n"
          ]
        }
      ],
      "source": [
        "#1-Write a Python program to find the maximum element in a list of numbers without max functio\n",
        "number=[10,20,30,40,55]\n",
        "temp=number[0]\n",
        "for i in number:\n",
        "  if(i>temp):\n",
        "    temp=i\n",
        "print(\"maximum number:\",temp)\n",
        "\n",
        "\n"
      ]
    },
    {
      "cell_type": "code",
      "source": [
        "#2. Write a Python program to sum all the elements in a list of numbers.\n",
        "list=[10,20,30,40]\n",
        "sum=0\n",
        "for i in list:\n",
        "  sum=sum+i\n",
        "print(\"the sum of the list:\",sum)"
      ],
      "metadata": {
        "colab": {
          "base_uri": "https://localhost:8080/"
        },
        "id": "jVZ4Mut03T14",
        "outputId": "b7c1d5c5-af8e-452f-b2be-817a0583597d"
      },
      "execution_count": null,
      "outputs": [
        {
          "output_type": "stream",
          "name": "stdout",
          "text": [
            "the sum of the list: 100\n"
          ]
        }
      ]
    },
    {
      "cell_type": "code",
      "source": [
        "#3. Write a Python program to reverse a list without reverse or slicing operator\n",
        "list=[1,2,3,4,5]\n",
        "rev_list=[]\n",
        "for i in list:\n",
        "  rev_list.insert(0,i)\n",
        "print(\"the revese of the list is :\",rev_list)\n"
      ],
      "metadata": {
        "colab": {
          "base_uri": "https://localhost:8080/"
        },
        "id": "B21u5x4Z3nng",
        "outputId": "b8f603a3-bbc4-4ca4-b5a0-6a156270a5d6"
      },
      "execution_count": null,
      "outputs": [
        {
          "output_type": "stream",
          "name": "stdout",
          "text": [
            "the revese of the list is : [5, 4, 3, 2, 1]\n"
          ]
        }
      ]
    },
    {
      "cell_type": "code",
      "source": [
        "#4. Write a Python program to sort a list in ascending order without sort functions\n",
        "numbers = [23, 12, 5, 67, 1, 34]\n",
        "n=len(numbers)\n",
        "for i in range(n):\n",
        "  for j in range(0,n-i-1):\n",
        "    if(numbers[j]>numbers[j+1]):\n",
        "      numbers[j],numbers[j+1]=numbers[j+1],numbers[j]\n",
        "print(\"sorted list in ascending order\",numbers)"
      ],
      "metadata": {
        "id": "it6y3XSV4dA_",
        "colab": {
          "base_uri": "https://localhost:8080/"
        },
        "outputId": "04a38bdc-7272-4de2-b966-7adc3dba3985"
      },
      "execution_count": 1,
      "outputs": [
        {
          "output_type": "stream",
          "name": "stdout",
          "text": [
            "sorted list in ascending order [1, 5, 12, 23, 34, 67]\n"
          ]
        }
      ]
    },
    {
      "cell_type": "code",
      "source": [
        "#5. Write a Python program to remove duplicates from a list while maintaining the order of elements\n",
        "list=[1,1,2,3,2,4,4]\n",
        "unique=[]\n",
        "for i in list:\n",
        "  if(i not in unique):\n",
        "    unique.append(i)\n",
        "print(\"the list after removing duplicates:\",unique)"
      ],
      "metadata": {
        "colab": {
          "base_uri": "https://localhost:8080/"
        },
        "id": "6cN1q4-06I6W",
        "outputId": "26a3002d-c198-4aa8-9a14-158d9da8fd5f"
      },
      "execution_count": null,
      "outputs": [
        {
          "output_type": "stream",
          "name": "stdout",
          "text": [
            "the list after removing duplicates: [1, 2, 3, 4]\n"
          ]
        }
      ]
    },
    {
      "cell_type": "code",
      "source": [
        "#6. Write a Python program to find all pairs of numbers in a list that add up to a specific target sum\n",
        "mylist=[1,2,3,3,4,5]\n",
        "for index in range(0,6):\n",
        "  curr=mylist[index]\n",
        "\n",
        "  for index2 in range(index+1,6):\n",
        "    next=mylist[index2]\n",
        "    if(curr + next ==6):\n",
        "      print(\"two element is:\",curr,next)\n"
      ],
      "metadata": {
        "colab": {
          "base_uri": "https://localhost:8080/"
        },
        "id": "VWZv_J52613F",
        "outputId": "357f1240-7dc1-41ad-b8f6-c17b11a3d8dc"
      },
      "execution_count": null,
      "outputs": [
        {
          "output_type": "stream",
          "name": "stdout",
          "text": [
            "two element is: 1 5\n",
            "two element is: 2 4\n",
            "two element is: 3 3\n"
          ]
        }
      ]
    },
    {
      "cell_type": "code",
      "source": [
        "#7. Write a Python program to flatten a nested list (list within lists) into a single list.\n",
        "nested_list = [1, [2, 3], [4, [5, 6], 7], 8]\n",
        "flat_list = []\n",
        "for item in nested_list:\n",
        "    if type(item) == list:\n",
        "        for subitem in item:\n",
        "            if type(subitem) == list:\n",
        "                for val in subitem:\n",
        "                    flat_list.append(val)\n",
        "            else:\n",
        "                flat_list.append(subitem)\n",
        "    else:\n",
        "        flat_list.append(item)\n",
        "print(\"nested list:\", nested_list)\n",
        "print(\"Flattened list:\", flat_list)"
      ],
      "metadata": {
        "colab": {
          "base_uri": "https://localhost:8080/"
        },
        "id": "6Afs2SJh83n7",
        "outputId": "b74353d0-6478-41fc-9d1d-21bbefaa7d6a"
      },
      "execution_count": null,
      "outputs": [
        {
          "output_type": "stream",
          "name": "stdout",
          "text": [
            "nested list: [1, [2, 3], [4, [5, 6], 7], 8]\n",
            "Flattened list: [1, [2, 3], [4, [5, 6], 7], 8]\n"
          ]
        }
      ]
    },
    {
      "cell_type": "code",
      "source": [
        "#8. Write a Python program to find the sum of the elements in a list, excluding the largest and smallest element. Don’t use max or min functions\n",
        "list=[1,2,3,4,5]\n",
        "smallest=largest=list[0]\n",
        "sum=0\n",
        "for i in list:\n",
        "  sum+=i\n",
        "  if(i<smallest):\n",
        "    smallest=i\n",
        "  elif(i>largest):\n",
        "    largest=i\n",
        "\n",
        "print(\"the sum of elementsL:\",sum-smallest-largest)\n",
        "\n",
        "\n"
      ],
      "metadata": {
        "colab": {
          "base_uri": "https://localhost:8080/"
        },
        "id": "q-ttF5Ws_Hxh",
        "outputId": "d366911c-60c0-48ca-ab4d-dfd14496cc22"
      },
      "execution_count": null,
      "outputs": [
        {
          "output_type": "stream",
          "name": "stdout",
          "text": [
            "the sum of elementsL: 9\n"
          ]
        }
      ]
    },
    {
      "cell_type": "code",
      "source": [
        "#9. Write a Python program to check if a list is a palindrome (reads the same backward as forward) using two pointer approach\n",
        "#numbers = [1, 2, 3, 2, 1]\n",
        "num=[1,2,3,2,1]\n",
        "i=0\n",
        "j=len(num)-1\n",
        "while(i<j):\n",
        "  if(num[i]!=num[j]):\n",
        "    print(\"the list is not palindrome\")\n",
        "    break\n",
        "    i+=1\n",
        "    j-=1\n",
        "  else:\n",
        "    print(\"the list is palindrome\")\n",
        "    break\n"
      ],
      "metadata": {
        "colab": {
          "base_uri": "https://localhost:8080/"
        },
        "id": "A8BaSzP0D1AX",
        "outputId": "47cf43a3-c253-4757-f6a0-b127116fd4ed"
      },
      "execution_count": null,
      "outputs": [
        {
          "output_type": "stream",
          "name": "stdout",
          "text": [
            "the list is palindrome\n"
          ]
        }
      ]
    },
    {
      "cell_type": "code",
      "source": [
        "#10. Write a function to remove duplicate elements from a list.\n",
        "def duplicate():\n",
        "  list=[1,1,2,3,2,4,4]\n",
        "  unique=[]\n",
        "  for i in list:\n",
        "    if(i not in unique):\n",
        "       unique.append(i)\n",
        "  print(\"the list after removing duplicates:\",unique)\n",
        "duplicate()\n",
        "\n"
      ],
      "metadata": {
        "colab": {
          "base_uri": "https://localhost:8080/"
        },
        "id": "fZcDB4rWFjB3",
        "outputId": "7f80dd71-6da3-4fc6-b8ca-fa923d221f8d"
      },
      "execution_count": null,
      "outputs": [
        {
          "output_type": "stream",
          "name": "stdout",
          "text": [
            "the list after removing duplicates: [1, 2, 3, 4]\n"
          ]
        }
      ]
    },
    {
      "cell_type": "code",
      "source": [
        "#11. Find Common Elements in Two Lists\n",
        "list1=[1,2,3,4]\n",
        "list2=[4,5,6,7]\n",
        "for i in list1:\n",
        "  if(i in list2):\n",
        "    print(\"the common elements:\",i)"
      ],
      "metadata": {
        "colab": {
          "base_uri": "https://localhost:8080/"
        },
        "id": "Eo1XC8-QG1M2",
        "outputId": "b209c862-59a0-467c-e97b-d6269517f8f7"
      },
      "execution_count": null,
      "outputs": [
        {
          "output_type": "stream",
          "name": "stdout",
          "text": [
            "the common elements: 4\n"
          ]
        }
      ]
    },
    {
      "cell_type": "code",
      "source": [
        "#12. Find the Longest Word in a List\n",
        "list=[\"apple\",\"mango\",\"kiwi\",\"blueberry\"]\n",
        "longest=list[0]\n",
        "for i in list:\n",
        "  if len(i)>len(longest):\n",
        "    longest=i\n",
        "print(\"the longest word from the list:\",longest)"
      ],
      "metadata": {
        "colab": {
          "base_uri": "https://localhost:8080/"
        },
        "id": "zB620_ozHwzq",
        "outputId": "17114976-fbbc-4c4e-83d7-27ff45ada14e"
      },
      "execution_count": null,
      "outputs": [
        {
          "output_type": "stream",
          "name": "stdout",
          "text": [
            "the longest word from the list: blueberry\n"
          ]
        }
      ]
    },
    {
      "cell_type": "code",
      "source": [
        "#13. Find Missing Number in a List\n",
        "list=[1,2,4,5,6]\n",
        "for i in range(1,len(list)+1):\n",
        "  if(i not in list):\n",
        "    print(\"the missing number:\",i)"
      ],
      "metadata": {
        "colab": {
          "base_uri": "https://localhost:8080/"
        },
        "id": "2XfPPOd_I79b",
        "outputId": "d7055a5d-f4c2-4d87-c749-680cbabc802f"
      },
      "execution_count": null,
      "outputs": [
        {
          "output_type": "stream",
          "name": "stdout",
          "text": [
            "the missing number: 3\n"
          ]
        }
      ]
    },
    {
      "cell_type": "code",
      "source": [
        "#15. Find the First Non-Repeating Element\n",
        "#Given a list of integers, find the first element that appears only once.\n",
        "# numbers = [4, 5, 1, 2, 0, 4, 5, 2]\n",
        "list=[4,5,1,2,0,4,5,2]\n",
        "for i in list:\n",
        "  if( list.count(i)==1):\n",
        "    print(\"the elements:\",i)\n",
        "    break"
      ],
      "metadata": {
        "colab": {
          "base_uri": "https://localhost:8080/"
        },
        "id": "yul11I_CKJBc",
        "outputId": "aa1d0373-6d9b-41f4-df7a-59b869fd58b6"
      },
      "execution_count": null,
      "outputs": [
        {
          "output_type": "stream",
          "name": "stdout",
          "text": [
            "the elements: 1\n"
          ]
        }
      ]
    },
    {
      "cell_type": "code",
      "source": [
        "#16. Move All Zeros to the End\n",
        "#Given a list of integers, move all zeros to the end while maintaining the relative order\n",
        "#of non-zero elements. Don’t use any inbuilt functions\n",
        "# numbers = [0, 1, 0, 3, 12]\n",
        "list1=[0,1,0,3,12]\n",
        "list2=[]\n",
        "list3=[]\n",
        "for i in list1:\n",
        "  if(i==0):\n",
        "    list2.append(i)\n",
        "  else:\n",
        "    list3.append(i)\n",
        "print(\"final list is:\", list3+list2)"
      ],
      "metadata": {
        "colab": {
          "base_uri": "https://localhost:8080/"
        },
        "id": "gJPl3S_WLCF6",
        "outputId": "6964a208-25fa-4577-8e4f-7e2b35ab4806"
      },
      "execution_count": null,
      "outputs": [
        {
          "output_type": "stream",
          "name": "stdout",
          "text": [
            "final list is: [1, 3, 12, 0, 0]\n"
          ]
        }
      ]
    },
    {
      "cell_type": "code",
      "source": [
        "#17. Find Elements Greater Than Their Left Neighbor\n",
        "# numbers = [1, 3, 2, 6, 5, 8, 7]\n",
        "numbers = [1, 3, 2, 6, 5, 8, 7]\n",
        "for i in range(1,len(numbers)):\n",
        "  if(numbers[i]>numbers[i-1]):\n",
        "   print(f\"{numbers[i]} is greater than {numbers[i-1]}\")"
      ],
      "metadata": {
        "colab": {
          "base_uri": "https://localhost:8080/"
        },
        "id": "hJSFX1UULwoa",
        "outputId": "abc50a1a-c14f-40e6-bb2c-dd01157ba439"
      },
      "execution_count": null,
      "outputs": [
        {
          "output_type": "stream",
          "name": "stdout",
          "text": [
            "3 is greater than 1\n",
            "6 is greater than 2\n",
            "8 is greater than 5\n"
          ]
        }
      ]
    },
    {
      "cell_type": "code",
      "source": [
        "#18. Find Triplets That Sum to Zero\n",
        "#Given a list of numbers, find all unique triplets (a, b, c) such that a + b + c = 0.\n",
        "mylist=[1,2,3,3,4,5]\n",
        "for index in range(0,6):\n",
        "  curr=mylist[index]\n",
        "\n",
        "  for index2 in range(index+1,6):\n",
        "    next=mylist[index2]\n",
        "\n",
        "    for index3 in range(index2+1,6):\n",
        "      next1=mylist[index3]\n",
        "      if(curr + next + next1 ==6):\n",
        "         print(\"three element is:\",curr,next,next1)\n",
        "         break\n",
        "\n"
      ],
      "metadata": {
        "colab": {
          "base_uri": "https://localhost:8080/"
        },
        "id": "lSLAaTjML4n4",
        "outputId": "2efa2d18-8b25-460b-b984-0c7605a63bc5"
      },
      "execution_count": null,
      "outputs": [
        {
          "output_type": "stream",
          "name": "stdout",
          "text": [
            "three element is: 1 2 3\n"
          ]
        }
      ]
    }
  ]
}